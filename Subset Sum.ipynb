{
 "cells": [
  {
   "cell_type": "code",
   "execution_count": 1,
   "metadata": {
    "collapsed": true
   },
   "outputs": [],
   "source": [
    "import numpy as np\n",
    "def _init_pop_gen(n, m):\n",
    "    grid=[]\n",
    "    row_init=np.random.randint(2, size=m)\n",
    "    grid=row_init\n",
    "    i=1\n",
    "    while i<n:\n",
    "        row=np.random.randint(2, size=m)\n",
    "        grid=np.vstack((grid,row))\n",
    "        grid=np.unique(grid,axis=0)\n",
    "        i=np.size(grid,0)\n",
    "    return grid"
   ]
  },
  {
   "cell_type": "code",
   "execution_count": 2,
   "metadata": {
    "collapsed": true
   },
   "outputs": [],
   "source": [
    "def _check(grid,value,sum):\n",
    "    grid=np.unique(grid,axis=0)\n",
    "    (n,m)=grid.shape\n",
    "    fitness=_fitness(grid,value)\n",
    "    count=0\n",
    "    for i in range(n):\n",
    "        if (fitness[i]>sum):\n",
    "            grid=np.delete(grid, i-count, 0)\n",
    "            count+=1\n",
    "    return grid"
   ]
  },
  {
   "cell_type": "code",
   "execution_count": 3,
   "metadata": {
    "collapsed": true
   },
   "outputs": [],
   "source": [
    "def _fitness(grid,value):\n",
    "    (n,m)=grid.shape\n",
    "    fitness=[]\n",
    "    for i in range(n):\n",
    "        fitness.append(0)\n",
    "        for j in range(m):\n",
    "            fitness[i]+=grid[i][j]*value[j]\n",
    "    return fitness"
   ]
  },
  {
   "cell_type": "code",
   "execution_count": 4,
   "metadata": {
    "collapsed": true
   },
   "outputs": [],
   "source": [
    "def _selection(n,fitness):\n",
    "    sorted=np.sort(fitness)[::-1]\n",
    "    indices=np.argsort(fitness)[::-1]\n",
    "    cf=[]\n",
    "    cf.append(0)\n",
    "    cf[0]=sorted[0]\n",
    "    for i in range(1,n):\n",
    "        cf.append(0)\n",
    "        cf[i]=cf[i-1]+sorted[i]\n",
    "    num=np.random.randint(cf[n-1])\n",
    "    i=0\n",
    "    while (cf[i]<num):\n",
    "        i=i+1\n",
    "    return indices[i]"
   ]
  },
  {
   "cell_type": "code",
   "execution_count": 5,
   "metadata": {
    "collapsed": true
   },
   "outputs": [],
   "source": [
    "def _crossover(cor,grid,value):\n",
    "    (n,m)=grid.shape\n",
    "    no_co=(cor*n*m)//100\n",
    "    for i in range(no_co):\n",
    "        fitness=_fitness(grid,value)\n",
    "        p=np.random.randint(0,m)\n",
    "        while True:\n",
    "            c1=_selection(n,fitness)\n",
    "            c2=_selection(n,fitness)\n",
    "            if (c1!=c2):\n",
    "                break\n",
    "        child1=np.hstack((grid[c1,0:p], grid[c2,p:m]))\n",
    "        child2=np.hstack((grid[c2,0:p],grid[c1,p:m]))\n",
    "        grid=np.vstack((grid,child1))\n",
    "        grid=np.vstack((grid,child2))\n",
    "        n=np.size(grid,0)\n",
    "    return grid"
   ]
  },
  {
   "cell_type": "code",
   "execution_count": 6,
   "metadata": {
    "collapsed": true
   },
   "outputs": [],
   "source": [
    "def _mutation(mr,grid,value):\n",
    "    (n,m)=grid.shape\n",
    "    no_mu=(mr*n*m)//100\n",
    "    for i in range(no_mu):\n",
    "        fitness=_fitness(grid,value)\n",
    "        p=np.random.randint(0,m-1)\n",
    "        c=_selection(n,fitness)\n",
    "        if (grid[c,p]==1):\n",
    "            grid[c,p]=0\n",
    "        else:\n",
    "            grid[c,p]=1\n",
    "    return grid"
   ]
  },
  {
   "cell_type": "code",
   "execution_count": 12,
   "metadata": {},
   "outputs": [
    {
     "name": "stdout",
     "output_type": "stream",
     "text": [
      "Enter number of chromosomes\t:50\n",
      "\n",
      "Shape:\t (8, 8)\n",
      "\n",
      "\n",
      "Enter no of Generations:\t20\n",
      "\n",
      "\n",
      "Given Set:\t [15, 22, 14, 26, 32, 9, 16, 8]\n",
      "\n",
      "\n",
      "Sum:\t 53\n",
      "\n",
      "\n",
      "Subsets\n",
      " [[0 1 1 0 0 1 0 1]\n",
      " [1 0 1 0 0 0 1 1]\n",
      " [1 1 0 0 0 0 1 0]]\n"
     ]
    }
   ],
   "source": [
    "m=8#int(input('Enter the number of cells in Set\\t:'))\n",
    "n=int(input('Enter number of chromosomes\\t:'))\n",
    "grid=_init_pop_gen(n,m)\n",
    "value=[15,22,14,26,32,9,16,8]\n",
    "#for i in range(m):\n",
    "#    val=int(input('\\nEnter Value['+str(i+1)+']\\t:'))\n",
    "#    value.append(val)\n",
    "\n",
    "sum=53#int(input('\\nEnter target sum of Subset!\\n'))\n",
    "grid=_check(grid,value,sum)\n",
    "cor=10#int(input('\\nEnter crossover rate:\\t'))\n",
    "mr=1#int(input('\\nEnter mutation rate:\\t'))\n",
    "subset=[]\n",
    "print('\\nShape:\\t',grid.shape)\n",
    "no_gen=int(input('\\n\\nEnter no of Generations:\\t'))\n",
    "gen=0\n",
    "\n",
    "while(gen<no_gen):\n",
    "    grid=_crossover(cor,grid,value)\n",
    "    grid=_check(grid,value,sum)\n",
    "    grid=_mutation(mr,grid,value)\n",
    "    grid=_check(grid,value,sum)\n",
    "    fitness=_fitness(grid,value)\n",
    "    n=np.size(grid,0)\n",
    "    for i in range(n):\n",
    "        if (fitness[i]==sum):\n",
    "            subset.append(grid[i])\n",
    "    gen+=1\n",
    "subset=np.unique(subset,axis=0)\n",
    "print('\\n\\nGiven Set:\\t',value)\n",
    "print('\\n\\nSum:\\t',sum)\n",
    "print('\\n\\nSubsets\\n',subset)"
   ]
  },
  {
   "cell_type": "code",
   "execution_count": null,
   "metadata": {
    "collapsed": true
   },
   "outputs": [],
   "source": []
  }
 ],
 "metadata": {
  "kernelspec": {
   "display_name": "Python 3",
   "language": "python",
   "name": "python3"
  },
  "language_info": {
   "codemirror_mode": {
    "name": "ipython",
    "version": 3
   },
   "file_extension": ".py",
   "mimetype": "text/x-python",
   "name": "python",
   "nbconvert_exporter": "python",
   "pygments_lexer": "ipython3",
   "version": "3.6.5"
  }
 },
 "nbformat": 4,
 "nbformat_minor": 2
}
